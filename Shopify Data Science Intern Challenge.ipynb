{
 "cells": [
  {
   "cell_type": "markdown",
   "id": "03f9013b",
   "metadata": {},
   "source": [
    "# Question 1: \n",
    "\n",
    "Given some sample data, write a program to answer the following: [click here to access the required data set](https://docs.google.com/spreadsheets/d/16i38oonuX1y1g7C_UAmiK9GkY7cS-64DfiDMNiR41LM/edit#gid=0)\n",
    "\n",
    "On Shopify, we have exactly 100 sneaker shops, and each of these shops sells only one model of shoe. We want to do some analysis of the average order value (AOV). When we look at orders data over a 30 day window, we naively calculate an AOV of $3145.13. Given that we know these shops are selling sneakers, a relatively affordable item, something seems wrong with our analysis. \n"
   ]
  },
  {
   "cell_type": "markdown",
   "id": "ad1acd85",
   "metadata": {},
   "source": [
    "## Exploring the Data"
   ]
  },
  {
   "cell_type": "code",
   "execution_count": 7,
   "id": "a748f50d",
   "metadata": {},
   "outputs": [
    {
     "data": {
      "text/html": [
       "<div>\n",
       "<style scoped>\n",
       "    .dataframe tbody tr th:only-of-type {\n",
       "        vertical-align: middle;\n",
       "    }\n",
       "\n",
       "    .dataframe tbody tr th {\n",
       "        vertical-align: top;\n",
       "    }\n",
       "\n",
       "    .dataframe thead th {\n",
       "        text-align: right;\n",
       "    }\n",
       "</style>\n",
       "<table border=\"1\" class=\"dataframe\">\n",
       "  <thead>\n",
       "    <tr style=\"text-align: right;\">\n",
       "      <th></th>\n",
       "      <th>order_id</th>\n",
       "      <th>shop_id</th>\n",
       "      <th>user_id</th>\n",
       "      <th>order_amount</th>\n",
       "      <th>total_items</th>\n",
       "      <th>payment_method</th>\n",
       "      <th>created_at</th>\n",
       "    </tr>\n",
       "  </thead>\n",
       "  <tbody>\n",
       "    <tr>\n",
       "      <th>0</th>\n",
       "      <td>1</td>\n",
       "      <td>53</td>\n",
       "      <td>746</td>\n",
       "      <td>224</td>\n",
       "      <td>2</td>\n",
       "      <td>cash</td>\n",
       "      <td>2017-03-13 12:36:56</td>\n",
       "    </tr>\n",
       "    <tr>\n",
       "      <th>1</th>\n",
       "      <td>2</td>\n",
       "      <td>92</td>\n",
       "      <td>925</td>\n",
       "      <td>90</td>\n",
       "      <td>1</td>\n",
       "      <td>cash</td>\n",
       "      <td>2017-03-03 17:38:52</td>\n",
       "    </tr>\n",
       "    <tr>\n",
       "      <th>2</th>\n",
       "      <td>3</td>\n",
       "      <td>44</td>\n",
       "      <td>861</td>\n",
       "      <td>144</td>\n",
       "      <td>1</td>\n",
       "      <td>cash</td>\n",
       "      <td>2017-03-14 4:23:56</td>\n",
       "    </tr>\n",
       "    <tr>\n",
       "      <th>3</th>\n",
       "      <td>4</td>\n",
       "      <td>18</td>\n",
       "      <td>935</td>\n",
       "      <td>156</td>\n",
       "      <td>1</td>\n",
       "      <td>credit_card</td>\n",
       "      <td>2017-03-26 12:43:37</td>\n",
       "    </tr>\n",
       "    <tr>\n",
       "      <th>4</th>\n",
       "      <td>5</td>\n",
       "      <td>18</td>\n",
       "      <td>883</td>\n",
       "      <td>156</td>\n",
       "      <td>1</td>\n",
       "      <td>credit_card</td>\n",
       "      <td>2017-03-01 4:35:11</td>\n",
       "    </tr>\n",
       "  </tbody>\n",
       "</table>\n",
       "</div>"
      ],
      "text/plain": [
       "   order_id  shop_id  user_id  order_amount  total_items payment_method  \\\n",
       "0         1       53      746           224            2           cash   \n",
       "1         2       92      925            90            1           cash   \n",
       "2         3       44      861           144            1           cash   \n",
       "3         4       18      935           156            1    credit_card   \n",
       "4         5       18      883           156            1    credit_card   \n",
       "\n",
       "            created_at  \n",
       "0  2017-03-13 12:36:56  \n",
       "1  2017-03-03 17:38:52  \n",
       "2   2017-03-14 4:23:56  \n",
       "3  2017-03-26 12:43:37  \n",
       "4   2017-03-01 4:35:11  "
      ]
     },
     "execution_count": 7,
     "metadata": {},
     "output_type": "execute_result"
    }
   ],
   "source": [
    "# import dataset\n",
    "import pandas as pd\n",
    "df = pd.read_csv(\"2019 Winter Data Science Intern Challenge Data Set - Sheet1.csv\")\n",
    "df.head()"
   ]
  },
  {
   "cell_type": "code",
   "execution_count": 13,
   "id": "ef362579",
   "metadata": {},
   "outputs": [
    {
     "data": {
      "text/plain": [
       "1862    2017-03-01 0:08:09\n",
       "1741    2017-03-01 0:10:19\n",
       "3228    2017-03-01 0:14:12\n",
       "1267    2017-03-01 0:19:31\n",
       "2689    2017-03-01 0:22:25\n",
       "               ...        \n",
       "2765    2017-03-30 9:22:41\n",
       "4890    2017-03-30 9:27:00\n",
       "244     2017-03-30 9:30:28\n",
       "211     2017-03-30 9:40:40\n",
       "145     2017-03-30 9:55:00\n",
       "Name: created_at, Length: 5000, dtype: object"
      ]
     },
     "execution_count": 13,
     "metadata": {},
     "output_type": "execute_result"
    }
   ],
   "source": [
    "# check the number of 30 day windows\n",
    "df.sort_values(by=['created_at'])['created_at']"
   ]
  },
  {
   "cell_type": "code",
   "execution_count": 8,
   "id": "68ad1982",
   "metadata": {},
   "outputs": [
    {
     "data": {
      "text/html": [
       "<div>\n",
       "<style scoped>\n",
       "    .dataframe tbody tr th:only-of-type {\n",
       "        vertical-align: middle;\n",
       "    }\n",
       "\n",
       "    .dataframe tbody tr th {\n",
       "        vertical-align: top;\n",
       "    }\n",
       "\n",
       "    .dataframe thead th {\n",
       "        text-align: right;\n",
       "    }\n",
       "</style>\n",
       "<table border=\"1\" class=\"dataframe\">\n",
       "  <thead>\n",
       "    <tr style=\"text-align: right;\">\n",
       "      <th></th>\n",
       "      <th>order_id</th>\n",
       "      <th>shop_id</th>\n",
       "      <th>user_id</th>\n",
       "      <th>order_amount</th>\n",
       "      <th>total_items</th>\n",
       "    </tr>\n",
       "  </thead>\n",
       "  <tbody>\n",
       "    <tr>\n",
       "      <th>count</th>\n",
       "      <td>5000.000000</td>\n",
       "      <td>5000.000000</td>\n",
       "      <td>5000.000000</td>\n",
       "      <td>5000.000000</td>\n",
       "      <td>5000.00000</td>\n",
       "    </tr>\n",
       "    <tr>\n",
       "      <th>mean</th>\n",
       "      <td>2500.500000</td>\n",
       "      <td>50.078800</td>\n",
       "      <td>849.092400</td>\n",
       "      <td>3145.128000</td>\n",
       "      <td>8.78720</td>\n",
       "    </tr>\n",
       "    <tr>\n",
       "      <th>std</th>\n",
       "      <td>1443.520003</td>\n",
       "      <td>29.006118</td>\n",
       "      <td>87.798982</td>\n",
       "      <td>41282.539349</td>\n",
       "      <td>116.32032</td>\n",
       "    </tr>\n",
       "    <tr>\n",
       "      <th>min</th>\n",
       "      <td>1.000000</td>\n",
       "      <td>1.000000</td>\n",
       "      <td>607.000000</td>\n",
       "      <td>90.000000</td>\n",
       "      <td>1.00000</td>\n",
       "    </tr>\n",
       "    <tr>\n",
       "      <th>25%</th>\n",
       "      <td>1250.750000</td>\n",
       "      <td>24.000000</td>\n",
       "      <td>775.000000</td>\n",
       "      <td>163.000000</td>\n",
       "      <td>1.00000</td>\n",
       "    </tr>\n",
       "    <tr>\n",
       "      <th>50%</th>\n",
       "      <td>2500.500000</td>\n",
       "      <td>50.000000</td>\n",
       "      <td>849.000000</td>\n",
       "      <td>284.000000</td>\n",
       "      <td>2.00000</td>\n",
       "    </tr>\n",
       "    <tr>\n",
       "      <th>75%</th>\n",
       "      <td>3750.250000</td>\n",
       "      <td>75.000000</td>\n",
       "      <td>925.000000</td>\n",
       "      <td>390.000000</td>\n",
       "      <td>3.00000</td>\n",
       "    </tr>\n",
       "    <tr>\n",
       "      <th>max</th>\n",
       "      <td>5000.000000</td>\n",
       "      <td>100.000000</td>\n",
       "      <td>999.000000</td>\n",
       "      <td>704000.000000</td>\n",
       "      <td>2000.00000</td>\n",
       "    </tr>\n",
       "  </tbody>\n",
       "</table>\n",
       "</div>"
      ],
      "text/plain": [
       "          order_id      shop_id      user_id   order_amount  total_items\n",
       "count  5000.000000  5000.000000  5000.000000    5000.000000   5000.00000\n",
       "mean   2500.500000    50.078800   849.092400    3145.128000      8.78720\n",
       "std    1443.520003    29.006118    87.798982   41282.539349    116.32032\n",
       "min       1.000000     1.000000   607.000000      90.000000      1.00000\n",
       "25%    1250.750000    24.000000   775.000000     163.000000      1.00000\n",
       "50%    2500.500000    50.000000   849.000000     284.000000      2.00000\n",
       "75%    3750.250000    75.000000   925.000000     390.000000      3.00000\n",
       "max    5000.000000   100.000000   999.000000  704000.000000   2000.00000"
      ]
     },
     "execution_count": 8,
     "metadata": {},
     "output_type": "execute_result"
    }
   ],
   "source": [
    "# summary of dataset\n",
    "df.describe()"
   ]
  },
  {
   "cell_type": "code",
   "execution_count": 11,
   "id": "b79d9b33",
   "metadata": {},
   "outputs": [
    {
     "data": {
      "text/plain": [
       "0"
      ]
     },
     "execution_count": 11,
     "metadata": {},
     "output_type": "execute_result"
    }
   ],
   "source": [
    "# check for duplicated rows\n",
    "df.duplicated().sum()"
   ]
  },
  {
   "cell_type": "markdown",
   "id": "44cae4f8",
   "metadata": {},
   "source": [
    "**Initial Analysis:** \n",
    "* The dataset pulled was over one 30-day window in March 2017\n",
    "* There are exactly 5000 rows in the dataset\n",
    "* There are exactly 100 distinct shop_id\n",
    "* The mean for order_amount is 3145.128000\n",
    "* There are no missing values\n",
    "* There are no duplicated rows"
   ]
  },
  {
   "cell_type": "markdown",
   "id": "fb1fb836",
   "metadata": {},
   "source": [
    "**a.** Think about what could be going wrong with our calculation. Think about a better way to evaluate this data. "
   ]
  },
  {
   "cell_type": "markdown",
   "id": "fe4828b0",
   "metadata": {},
   "source": [
    "The naive average order value (AOV) of 3145.13 was most likely the mean order_amount value which is sensitive to large outlier values in the dataset. In looking at the 50 percentile mark, the average looks to be around 284 which is much lower than the naive AOV. One possibility is that there may have been some errors in input from the shops or users in the order_amount which may be contributing to the large AOV. We can tell if this is the case by looking at the AOV per shop or user. "
   ]
  },
  {
   "cell_type": "markdown",
   "id": "bb4ffa38",
   "metadata": {},
   "source": [
    "**b**. What metric would you report for this dataset?"
   ]
  },
  {
   "cell_type": "markdown",
   "id": "580e78c0",
   "metadata": {},
   "source": [
    "I would use other metrics such as median or mode as these metrics are less sensitive to outliers. In analyzing the data set, the values for median and mode were the same. However, as the data is from the 100 shops, the most frequently occuring sneaker price, mode, would provide a more accurate representation than AOV per shop. "
   ]
  },
  {
   "cell_type": "markdown",
   "id": "ee9f93ce",
   "metadata": {},
   "source": [
    "**c**. What is its value?"
   ]
  },
  {
   "cell_type": "markdown",
   "id": "41bc1ff8",
   "metadata": {},
   "source": [
    "$153"
   ]
  },
  {
   "cell_type": "markdown",
   "id": "4a119d0d",
   "metadata": {},
   "source": [
    "# Question 2: \n",
    "For this question you’ll need to use SQL. [Follow this link](https://www.w3schools.com/SQL/TRYSQL.ASP?FILENAME=TRYSQL_SELECT_ALL) to access the data set required for the challenge. Please use queries to answer the following questions. Paste your queries along with your final numerical answers below.\n"
   ]
  },
  {
   "cell_type": "markdown",
   "id": "f5df8cce",
   "metadata": {},
   "source": [
    "**a.** How many orders were shipped by Speedy Express in total?"
   ]
  },
  {
   "cell_type": "markdown",
   "id": "cba991f9",
   "metadata": {},
   "source": [
    "**Answer:** 54"
   ]
  },
  {
   "cell_type": "raw",
   "id": "506a9986",
   "metadata": {},
   "source": [
    "SELECT count(DISTINCT orderID) FROM orders o\n",
    "inner join shippers s\n",
    "on o.shipperid = s.shipperid\n",
    "where s.ShipperName = \"Speedy Express\""
   ]
  },
  {
   "cell_type": "markdown",
   "id": "81fe2ac1",
   "metadata": {},
   "source": [
    "**b.** What is the last name of the employee with the most orders?"
   ]
  },
  {
   "cell_type": "markdown",
   "id": "0c1dcc3e",
   "metadata": {},
   "source": [
    "**Answer:** Peacock"
   ]
  },
  {
   "cell_type": "raw",
   "id": "e085aa9d",
   "metadata": {},
   "source": [
    "SELECT LastName \n",
    "from orders o join employees e\n",
    "on o.employeeID = e.employeeID\n",
    "group by o.employeeID\n",
    "order by count(o.OrderID) desc\n",
    "limit 1"
   ]
  },
  {
   "cell_type": "markdown",
   "id": "f39f3bf6",
   "metadata": {},
   "source": [
    "**c.** What product was ordered the most by customers in Germany?"
   ]
  },
  {
   "cell_type": "markdown",
   "id": "6b9855bd",
   "metadata": {},
   "source": [
    "**Answer:** Boston Crab Meat"
   ]
  },
  {
   "cell_type": "raw",
   "id": "ac9af77c",
   "metadata": {},
   "source": [
    "select p.ProductName from OrderDetails d\n",
    "join Orders o\n",
    "on d.OrderID = o.OrderID\n",
    "join Customers c\n",
    "on o.CustomerID = c.CustomerID\n",
    "join Products p\n",
    "on p.ProductID = d.ProductID\n",
    "where c.country = \"Germany\"\n",
    "group by p.productID\n",
    "order by sum(quantity) desc\n",
    "limit 1"
   ]
  }
 ],
 "metadata": {
  "kernelspec": {
   "display_name": "Python 3",
   "language": "python",
   "name": "python3"
  },
  "language_info": {
   "codemirror_mode": {
    "name": "ipython",
    "version": 3
   },
   "file_extension": ".py",
   "mimetype": "text/x-python",
   "name": "python",
   "nbconvert_exporter": "python",
   "pygments_lexer": "ipython3",
   "version": "3.8.8"
  }
 },
 "nbformat": 4,
 "nbformat_minor": 5
}
